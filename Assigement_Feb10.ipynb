{
  "nbformat": 4,
  "nbformat_minor": 0,
  "metadata": {
    "colab": {
      "provenance": [],
      "authorship_tag": "ABX9TyNN86/8FOSuRi2j25TKMYAH",
      "include_colab_link": true
    },
    "kernelspec": {
      "name": "python3",
      "display_name": "Python 3"
    },
    "language_info": {
      "name": "python"
    }
  },
  "cells": [
    {
      "cell_type": "markdown",
      "metadata": {
        "id": "view-in-github",
        "colab_type": "text"
      },
      "source": [
        "<a href=\"https://colab.research.google.com/github/Vaibhav074N/Assigement-Feb10/blob/main/Assigement_Feb10.ipynb\" target=\"_parent\"><img src=\"https://colab.research.google.com/assets/colab-badge.svg\" alt=\"Open In Colab\"/></a>"
      ]
    },
    {
      "cell_type": "markdown",
      "source": [
        "Q1. Which function is used to open a file? What are the different modes of opening a file? Explain each mode of file opening."
      ],
      "metadata": {
        "id": "LoSgFiK8Hqea"
      }
    },
    {
      "cell_type": "markdown",
      "source": [
        "In Python, the open() function is used to open a file. It takes two arguments: the file path and the mode in which the file should be opened.\n",
        "\n",
        "The different modes of opening a file are:\n",
        "\n",
        "r :- read mode. This mode is used when we want to read data from a file. If the file does not exist, it will raise a FileNotFoundError exception.\n",
        "\n",
        "w :- write mode. This mode is used when we want to write data to a file. If the file does not exist, it will be created. If the file already exists, its contents will be truncated.\n",
        "\n",
        "a :- append mode. This mode is used when we want to add data to the end of a file. If the file does not exist, it will be created.\n",
        "\n",
        "x :- exclusive creation mode. This mode is used when we want to create a new file and raise an error if the file already exists.\n",
        "\n",
        "b :- binary mode. This mode is used when we want to read or write binary data to a file.\n",
        "\n",
        "t :- text mode. This mode is used when we want to read or write text data to a file.\n",
        "\n",
        "+:- read and write mode. This mode is used when we want to read and write data to a file simultaneously."
      ],
      "metadata": {
        "id": "QvOPe_8cH0l9"
      }
    },
    {
      "cell_type": "code",
      "execution_count": null,
      "metadata": {
        "id": "DxCW13U-Hjh4"
      },
      "outputs": [],
      "source": []
    },
    {
      "cell_type": "markdown",
      "source": [
        "Q2. Why close() function is used? Why is it important to close a file?"
      ],
      "metadata": {
        "id": "KjDB4N-6JXC2"
      }
    },
    {
      "cell_type": "markdown",
      "source": [
        "The close() function is used to close a file that has been opened using the open() function in Python. It is important to close a file after it has been opened because it releases the system resources that were being used by the file, such as file descriptors or memory buffers.\n",
        "\n",
        "If we do not close a file after opening it, the system resources that the file is using will remain allocated, which can lead to memory leaks and other performance issues. Additionally, if a file is not closed properly, any data that has been written to the file may not be saved, or may become corrupted.\n",
        "\n",
        "In summary, the close() function is used to release system resources and ensure that any data written to a file is saved correctly, and it is important to close a file after opening it to avoid memory leaks and other performance issues."
      ],
      "metadata": {
        "id": "FlYu4Nd3Jdyl"
      }
    },
    {
      "cell_type": "code",
      "source": [],
      "metadata": {
        "id": "-6By2CQOJcgn"
      },
      "execution_count": null,
      "outputs": []
    },
    {
      "cell_type": "markdown",
      "source": [
        "Q3. Write a python program to create a text file. Write ‘I want to become a Data Scientist’ in that file. Then close the file. Open this file and read the content of the file."
      ],
      "metadata": {
        "id": "C9cE-6Q_KNVt"
      }
    },
    {
      "cell_type": "code",
      "source": [
        "with open('text.txt','w') as file:\n",
        "  file.write('I want to become a Data Scientist')\n",
        "\n",
        "with open('text.txt','r') as file:\n",
        "  r = file.read()\n",
        "  print(r)\n",
        "\n",
        "file.close()"
      ],
      "metadata": {
        "colab": {
          "base_uri": "https://localhost:8080/"
        },
        "id": "LElhbmBeKXR0",
        "outputId": "b3d3a537-89ea-4904-d6e1-72cbffb37449"
      },
      "execution_count": 2,
      "outputs": [
        {
          "output_type": "stream",
          "name": "stdout",
          "text": [
            "I want to become a Data Scientist\n"
          ]
        }
      ]
    },
    {
      "cell_type": "markdown",
      "source": [
        "Q4. Explain the following with python code: read(), readline() and readlines()."
      ],
      "metadata": {
        "id": "huP0to76L1fd"
      }
    },
    {
      "cell_type": "markdown",
      "source": [
        "read(): This method reads the entire contents of a file as a string, and returns it.\n",
        "\n",
        "readline(): This method reads a single line of text from a file and returns it as a string. The file pointer moves to the next line after the line is read.\n",
        "\n",
        "readlines(): This method reads all the lines of a file and returns them as a list of strings. Each string in the list represents a line from the file."
      ],
      "metadata": {
        "id": "QRJLeRTcL9c2"
      }
    },
    {
      "cell_type": "code",
      "source": [
        "with open('data.txt','w') as file:\n",
        "  a = file.write('my name is vaibhav narwade. My age is 22 and i live in nanded.')\n",
        "  print(a)"
      ],
      "metadata": {
        "colab": {
          "base_uri": "https://localhost:8080/"
        },
        "id": "kbPB52tSL8S2",
        "outputId": "a932c4a5-fc58-4660-b6f4-2f1fb600d5f2"
      },
      "execution_count": 53,
      "outputs": [
        {
          "output_type": "stream",
          "name": "stdout",
          "text": [
            "62\n"
          ]
        }
      ]
    },
    {
      "cell_type": "code",
      "source": [
        "with open('data.txt','r') as file:\n",
        "  prt = file.read()\n",
        "  print(prt)"
      ],
      "metadata": {
        "colab": {
          "base_uri": "https://localhost:8080/"
        },
        "id": "ppX_hCTYPVKP",
        "outputId": "0009ec90-1734-4418-9b13-95ff95351f92"
      },
      "execution_count": 42,
      "outputs": [
        {
          "output_type": "stream",
          "name": "stdout",
          "text": [
            "my name is vaibhav narwade. My age is 22 and i live in nanded.\n"
          ]
        }
      ]
    },
    {
      "cell_type": "code",
      "source": [
        "with open('data.txt','r') as file:\n",
        "  line = file.readline(28)\n",
        "  while line:\n",
        "    print(line)\n",
        "    line = file.readline()"
      ],
      "metadata": {
        "colab": {
          "base_uri": "https://localhost:8080/"
        },
        "id": "Io2M5mymPYIP",
        "outputId": "bc4184b1-6981-4c9d-c3a4-1ac6cce77d60"
      },
      "execution_count": 70,
      "outputs": [
        {
          "output_type": "stream",
          "name": "stdout",
          "text": [
            "my name is vaibhav narwade. \n",
            "My age is 22 and i live in nanded.\n"
          ]
        }
      ]
    },
    {
      "cell_type": "code",
      "source": [
        "with open('data.txt', 'r') as file:\n",
        "  lines = file.readlines()\n",
        "  for line in lines:\n",
        "    print(line)"
      ],
      "metadata": {
        "colab": {
          "base_uri": "https://localhost:8080/"
        },
        "id": "iux1iUDAQgiY",
        "outputId": "9c99cb90-0492-4fdd-eb67-1d599342c1c0"
      },
      "execution_count": 44,
      "outputs": [
        {
          "output_type": "stream",
          "name": "stdout",
          "text": [
            "my name is vaibhav narwade. My age is 22 and i live in nanded.\n"
          ]
        }
      ]
    },
    {
      "cell_type": "code",
      "source": [],
      "metadata": {
        "id": "KdCgOt7ES7z9"
      },
      "execution_count": null,
      "outputs": []
    },
    {
      "cell_type": "markdown",
      "source": [
        "Q5.Explain why with statement is used with open(). What is the advantage of using with statement and open() together?"
      ],
      "metadata": {
        "id": "y-39npVBS8d9"
      }
    },
    {
      "cell_type": "markdown",
      "source": [
        "The with statement in Python is used to manage resources like files, sockets, and database connections, which need to be opened and closed in a controlled manner. It provides a way to ensure that the resources are properly released after use, even if an error occurs during the execution of the code.\n",
        "\n",
        "When used with the open() function, the with statement automatically closes the file after the indented block of code has finished executing. This ensures that the file is closed properly, even if an exception occurs while reading or writing data to the file.\n",
        "\n",
        "The advantage of using the with statement with open() is that it simplifies the syntax for managing file I/O operations. Instead of explicitly opening and closing the file using the open() and close() methods, the with statement provides a clean and concise way to manage file resources.\n",
        "\n",
        "Using the with statement with open() makes the code easier to read and understand, while also ensuring that resources are properly managed."
      ],
      "metadata": {
        "id": "gGmhsj5xTBSR"
      }
    },
    {
      "cell_type": "code",
      "source": [],
      "metadata": {
        "id": "Xv0zV35UTAI6"
      },
      "execution_count": null,
      "outputs": []
    },
    {
      "cell_type": "markdown",
      "source": [
        "Q6. Explain the write() and writelines() functions. Give a suitable example."
      ],
      "metadata": {
        "id": "t987bzSmX-3Q"
      }
    },
    {
      "cell_type": "markdown",
      "source": [
        "write() :- This method is used to write a string to a file. It takes a string as an argument and writes it to the file at the current position of the file pointer. If the file does not exist, it is created. If the file exists, the data is appended to the end of the file.\n",
        "\n",
        "writelines() :- This method is used to write a list of strings to a file. It takes a list of strings as an argument and writes them to the file at the current position of the file pointer. Each string in the list is written to the file as a separate line. If the file does not exist, it is created. If the file exists, the data is appended to the end of the file."
      ],
      "metadata": {
        "id": "khiShcg7YOZi"
      }
    },
    {
      "cell_type": "code",
      "source": [
        "with open('test.txt','w') as f:\n",
        "  s=f.write('welcome to nanded.')\n",
        "  print(s)"
      ],
      "metadata": {
        "colab": {
          "base_uri": "https://localhost:8080/"
        },
        "id": "Og42mPFJYD95",
        "outputId": "4ea10d1e-e54e-4930-bc90-fd1b6e74b1eb"
      },
      "execution_count": 52,
      "outputs": [
        {
          "output_type": "stream",
          "name": "stdout",
          "text": [
            "18\n"
          ]
        }
      ]
    },
    {
      "cell_type": "code",
      "source": [
        "with open('test.txt','r') as file:\n",
        "  ss = file.read()\n",
        "  print(ss)\n"
      ],
      "metadata": {
        "colab": {
          "base_uri": "https://localhost:8080/"
        },
        "id": "R1cVfeLFaENj",
        "outputId": "b5cf5968-89b3-42d6-a642-6ad10ada0ad4"
      },
      "execution_count": 58,
      "outputs": [
        {
          "output_type": "stream",
          "name": "stdout",
          "text": [
            "welcome to nanded.\n"
          ]
        }
      ]
    },
    {
      "cell_type": "code",
      "source": [
        "l = ['my name is omprakesh\\n','hello what is going on.\\n','godbye\\n']\n",
        "with open('do.txt','w') as f:\n",
        "  f.writelines(l)"
      ],
      "metadata": {
        "id": "mGn2KeLraJkx"
      },
      "execution_count": 67,
      "outputs": []
    }
  ]
}